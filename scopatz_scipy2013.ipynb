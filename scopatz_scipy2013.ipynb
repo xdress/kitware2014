{
 "metadata": {
  "name": "scopatz_scipy2013"
 },
 "nbformat": 3,
 "nbformat_minor": 0,
 "worksheets": [
  {
   "cells": [
    {
     "cell_type": "markdown",
     "metadata": {
      "slideshow": {
       "slide_type": "slide"
      }
     },
     "source": [
      "<div style=\"text-align:center\">\n",
      "<h1>XDress - Type, But Verify</h1>\n",
      "<h2><img src=\"HooverJoven.jpg\" /><br />SciPy 2013</h2>\n",
      "</div>\n",
      "<div style=\"text-align:center\">Anthony Michael Scopatz</div>\n",
      "<div style=\"text-align:center\">The University of Wisconsin-Madison, Engineering Physics</div>\n",
      "<div style=\"text-align:center\">Austin, TX, June 26th, 2013</div>"
     ]
    },
    {
     "cell_type": "code",
     "collapsed": false,
     "input": [
      "import os\n",
      "import numpy as np\n",
      "import matplotlib\n",
      "matplotlib.rc('font', family='serif', size=16)\n",
      "import matplotlib.pyplot as plt\n",
      "from IPython.display import *\n",
      "from utils import htmltable"
     ],
     "language": "python",
     "metadata": {
      "slideshow": {
       "slide_type": "skip"
      }
     },
     "outputs": [],
     "prompt_number": 1
    },
    {
     "cell_type": "markdown",
     "metadata": {
      "slideshow": {
       "slide_type": "slide"
      }
     },
     "source": [
      "## Questions\n",
      "\n",
      "<div style=\"text-align:center;\"><img src=\"http://24.media.tumblr.com/tumblr_m1rk6gkLao1r38bjro10_500.jpg\" width=\"80%\" /></div>"
     ]
    },
    {
     "cell_type": "markdown",
     "metadata": {
      "slideshow": {
       "slide_type": "slide"
      }
     },
     "source": [
      "## References\n",
      "\n",
      "1. Anthony Scopatz, \"Erichment: M* vs Flowrate\", URL: http://pynesim.org/gallery/enrichment_mstar_vs_flowrate.html"
     ]
    },
    {
     "cell_type": "code",
     "collapsed": false,
     "input": [
      "!make"
     ],
     "language": "python",
     "metadata": {
      "slideshow": {
       "slide_type": "skip"
      }
     },
     "outputs": [
      {
       "output_type": "stream",
       "stream": "stdout",
       "text": [
        "cp -r ~/nbconvert/reveal . \r\n",
        "rm -rf reveal/.git* \r\n",
        "mkdir -p js \r\n",
        "cp ~/nbconvert/js/mathjax-onload.js js\r\n",
        "cp classy.css reveal/css/theme/ \r\n",
        "python ~/nbconvert/nbconvert.py -f reveal scopatz_scipy2013.ipynb \r\n"
       ]
      },
      {
       "output_type": "stream",
       "stream": "stdout",
       "text": [
        "sed -i 's:reveal/css/theme/simple.css:reveal/css/theme/classy.css:' scopatz_scipy2013_slides.html \r\n",
        "sed -i 's:class=\"fragment\" class=\"text_cell_render:class=\"fragment text_cell_render:' scopatz_scipy2013_slides.html \r\n",
        "sed -i 's/.rendered_html ul{list-style:disc;margin:1em 2em;}/.rendered_html ul{list-style:disc;margin:0em 2em;}/' scopatz_scipy2013_slides.html \r\n"
       ]
      },
      {
       "output_type": "stream",
       "stream": "stdout",
       "text": [
        "sed -i '/<\\!-- Social buttons -->/,/<\\!-- End of social buttons -->/d' scopatz_scipy2013_slides.html \r\n"
       ]
      }
     ],
     "prompt_number": 3
    },
    {
     "cell_type": "code",
     "collapsed": false,
     "input": [],
     "language": "python",
     "metadata": {},
     "outputs": []
    }
   ],
   "metadata": {}
  }
 ]
}