{
 "metadata": {
  "name": "scopatz_scipy2013"
 },
 "nbformat": 3,
 "nbformat_minor": 0,
 "worksheets": [
  {
   "cells": [
    {
     "cell_type": "markdown",
     "metadata": {
      "slideshow": {
       "slide_type": "slide"
      }
     },
     "source": [
      "<div style=\"text-align:center\">\n",
      "<h1>XDress - Type, But Verify</h1>\n",
      "<h2><img src=\"HooverJoven.jpg\" /><br />SciPy 2013</h2>\n",
      "</div>\n",
      "<div style=\"text-align:center\">Anthony Michael Scopatz</div>\n",
      "<div style=\"text-align:center\">The University of Wisconsin-Madison, NumFOCUS</div>\n",
      "<div style=\"text-align:center\">Austin, TX, June 26th, 2013</div>"
     ]
    },
    {
     "cell_type": "code",
     "collapsed": false,
     "input": [
      "import os\n",
      "import sys\n",
      "import shutil\n",
      "import numpy as np\n",
      "import matplotlib\n",
      "matplotlib.rc('font', family='serif', size=16)\n",
      "import matplotlib.pyplot as plt\n",
      "from IPython.display import *\n",
      "from utils import htmltable\n",
      "from pprint import pprint"
     ],
     "language": "python",
     "metadata": {
      "slideshow": {
       "slide_type": "skip"
      }
     },
     "outputs": [],
     "prompt_number": 1
    },
    {
     "cell_type": "markdown",
     "metadata": {
      "slideshow": {
       "slide_type": "skip"
      }
     },
     "source": [
      "## Cheat Sheet\n",
      "\n",
      "**Center:**  ``<div style=\"text-align:center;\"></div>``\n",
      "    \n",
      "**Right:**   ``<div style=\"text-align:right;\"></div>``\n",
      "    \n",
      "**Center H3:**  ``<div style=\"text-align:center;\"><h3></h3></div>``\n",
      "\n",
      "**Right H3:**  ``<div style=\"text-align:right;\"><h3></h3></div>``\n",
      "    \n",
      "**Center Image:**  ``<div style=\"text-align:center;\"><img src=\"\" width=\"80%\" /></div>``"
     ]
    },
    {
     "cell_type": "markdown",
     "metadata": {
      "slideshow": {
       "slide_type": "slide"
      }
     },
     "source": [
      "## What's the Big Idea\n",
      "\n",
      "<div style=\"text-align:center;\">At its core, xdress is a suite of code generation routines built on top of a dynamic type system.</div>"
     ]
    },
    {
     "cell_type": "markdown",
     "metadata": {
      "slideshow": {
       "slide_type": "fragment"
      }
     },
     "source": [
      "## Motivation\n",
      "\n",
      "* First class C++ support\n",
      "* Deep access to the type system\n",
      "* A multitude of front ends (including Cython)"
     ]
    },
    {
     "cell_type": "markdown",
     "metadata": {
      "slideshow": {
       "slide_type": "slide"
      }
     },
     "source": [
      "## What XDress Is"
     ]
    },
    {
     "cell_type": "markdown",
     "metadata": {
      "slideshow": {
       "slide_type": "skip"
      }
     },
     "source": [
      "Created via [this link](http://interactive.blockdiag.com/?compression=deflate&src=eJyr5lJQUHIM8FRwy8xLSS1SUoguLqnMSVWwVUhJLM5ITYm1BioISCwqTi0qVtC1Q1UL5geHKIRlFmeW5EMFnPNTUhXcU_NSixKBYsVK1ly1AOqXHj4)."
     ]
    },
    {
     "cell_type": "markdown",
     "metadata": {},
     "source": [
      "<div style=\"text-align:center;\"><img src=\"workflow.svg\" /></div>"
     ]
    },
    {
     "cell_type": "markdown",
     "metadata": {
      "slideshow": {
       "slide_type": "fragment"
      }
     },
     "source": [
      "## What XDress Is Not\n",
      "\n",
      "* **Parser**\n",
      "* **Compiler**\n",
      "* **Build System**"
     ]
    },
    {
     "cell_type": "markdown",
     "metadata": {
      "slideshow": {
       "slide_type": "slide"
      }
     },
     "source": [
      "## Type System\n",
      "\n",
      "* Since we are not doing any parsing or compiling, the type system doesn't need to know the concrete size of any types."
     ]
    },
    {
     "cell_type": "markdown",
     "metadata": {
      "slideshow": {
       "slide_type": "fragment"
      }
     },
     "source": [
      "* Rather the type system is a convient, consistent, and complete way to *spell* type names!"
     ]
    },
    {
     "cell_type": "markdown",
     "metadata": {
      "slideshow": {
       "slide_type": "fragment"
      }
     },
     "source": [
      "* Type names are composed of immutable Python types:\n",
      "    \n",
      "    * ``str``\n",
      "    * ``tuple``\n",
      "    * ``int``\n",
      "    * ``TypeMatcher``"
     ]
    },
    {
     "cell_type": "markdown",
     "metadata": {
      "slideshow": {
       "slide_type": "fragment"
      }
     },
     "source": [
      "<div style=\"text-align:right;\"><img src=\"http://img.photobucket.com/albums/v647/RandomElite/ZOMG.jpg\" width=\"75\" /></div>"
     ]
    },
    {
     "cell_type": "markdown",
     "metadata": {
      "slideshow": {
       "slide_type": "slide"
      }
     },
     "source": [
      "## Kinds of Types\n",
      "\n",
      "As a brief diversion into type theory, xdress supports:\n",
      "    \n",
      "<div style=\"text-align:center;\"><h3>Base Types</h3></div><br/>\n",
      "\n",
      "<div style=\"text-align:center;\"><h3>Dependent Types</h3></div><br/>\n",
      "\n",
      "<div style=\"text-align:center;\"><h3>Refinement Types</h3></div><br/>"
     ]
    },
    {
     "cell_type": "markdown",
     "metadata": {
      "slideshow": {
       "slide_type": "slide"
      }
     },
     "source": [
      "## Base Types\n",
      "\n",
      "Base types are the normal primitive types that we all know and lovehate.  \n",
      "\n",
      "These are represented by ``str``.  \n",
      "\n",
      "Classes and structs also become base types."
     ]
    },
    {
     "cell_type": "code",
     "collapsed": false,
     "input": [
      "import xdress.typesystem as ts\n",
      "pprint(ts.base_types)"
     ],
     "language": "python",
     "metadata": {},
     "outputs": [
      {
       "output_type": "stream",
       "stream": "stdout",
       "text": [
        "set(['bool',\n",
        "     'char',\n",
        "     'complex128',\n",
        "     'file',\n",
        "     'float128',\n",
        "     'float32',\n",
        "     'float64',\n",
        "     'int128',\n",
        "     'int16',\n",
        "     'int32',\n",
        "     'int64',\n",
        "     'str',\n",
        "     'type',\n",
        "     'uchar',\n",
        "     'uint128',\n",
        "     'uint16',\n",
        "     'uint32',\n",
        "     'uint64',\n",
        "     'void'])\n"
       ]
      }
     ],
     "prompt_number": 2
    },
    {
     "cell_type": "markdown",
     "metadata": {
      "slideshow": {
       "slide_type": "slide"
      }
     },
     "source": [
      "## Dependent Types\n",
      "\n",
      "Dependent types are parameterized by static values *or* types!"
     ]
    },
    {
     "cell_type": "markdown",
     "metadata": {
      "slideshow": {
       "slide_type": "fragment"
      }
     },
     "source": [
      "These are used to represent templated types in C++."
     ]
    },
    {
     "cell_type": "markdown",
     "metadata": {
      "slideshow": {
       "slide_type": "fragment"
      }
     },
     "source": [
      "They are spelled with ``tuple``s."
     ]
    },
    {
     "cell_type": "code",
     "collapsed": false,
     "input": [
      "set_of_strings = ('set', 'str')\n",
      "map_int_double = ('map', 'int32', 'float64')"
     ],
     "language": "python",
     "metadata": {
      "slideshow": {
       "slide_type": "fragment"
      }
     },
     "outputs": [],
     "prompt_number": 3
    },
    {
     "cell_type": "markdown",
     "metadata": {
      "slideshow": {
       "slide_type": "slide"
      }
     },
     "source": [
      "## Refined Types\n",
      "\n",
      "Refined types are defined such that all of their elements are subset of another type.  "
     ]
    },
    {
     "cell_type": "markdown",
     "metadata": {
      "slideshow": {
       "slide_type": "fragment"
      }
     },
     "source": [
      "They are specified by the refinement type name, the super type name, and a predicate."
     ]
    },
    {
     "cell_type": "markdown",
     "metadata": {
      "slideshow": {
       "slide_type": "fragment"
      }
     },
     "source": [
      "__Examples:__\n",
      "    \n",
      "* Even integers are a refinement of ``int32``"
     ]
    },
    {
     "cell_type": "markdown",
     "metadata": {
      "slideshow": {
       "slide_type": "fragment"
      }
     },
     "source": [
      "* Strings which begin with \"A\" are a refinement of ``str``"
     ]
    },
    {
     "cell_type": "markdown",
     "metadata": {
      "slideshow": {
       "slide_type": "fragment"
      }
     },
     "source": [
      "* ``set([\"Awesome\", \"As\", \"Anthony\"])`` is a refinement of \"A\" strings"
     ]
    },
    {
     "cell_type": "markdown",
     "metadata": {
      "slideshow": {
       "slide_type": "slide"
      }
     },
     "source": [
      "## Refined Types\n",
      "\n",
      "These may be spelled with ``str`` or the (super type, type name) ``tuple``s."
     ]
    },
    {
     "cell_type": "code",
     "collapsed": false,
     "input": [
      "type_name = 'evenint'\n",
      "final_form = ('int32', 'evenint')"
     ],
     "language": "python",
     "metadata": {
      "slideshow": {
       "slide_type": "fragment"
      }
     },
     "outputs": [],
     "prompt_number": 4
    },
    {
     "cell_type": "markdown",
     "metadata": {
      "slideshow": {
       "slide_type": "fragment"
      }
     },
     "source": [
      "## Refined Dependent Types\n",
      "\n",
      "Recall that dependent types are fully composable with other types."
     ]
    },
    {
     "cell_type": "code",
     "collapsed": false,
     "input": [
      "int_range = ('range', 'int32', 1, 42)\n",
      "even_int_range = ('range', ('int32', 'evenint'), 1, 42)\n",
      "too_much_fun = ('map', 'evenint', ('range', ('int32', 'evenint'), 1, 42))"
     ],
     "language": "python",
     "metadata": {
      "slideshow": {
       "slide_type": "fragment"
      }
     },
     "outputs": [],
     "prompt_number": 5
    },
    {
     "cell_type": "markdown",
     "metadata": {
      "slideshow": {
       "slide_type": "slide"
      }
     },
     "source": [
      "## And More!\n",
      "\n",
      "* What you have seen so far is the shorthand form.  "
     ]
    },
    {
     "cell_type": "markdown",
     "metadata": {
      "slideshow": {
       "slide_type": "fragment"
      }
     },
     "source": [
      "* There is also a canonical form: ``ts.canon(t)``"
     ]
    },
    {
     "cell_type": "markdown",
     "metadata": {
      "slideshow": {
       "slide_type": "fragment"
      }
     },
     "source": [
      "* There are aliases: ``ts.canon('f8') == 'float64'``"
     ]
    },
    {
     "cell_type": "markdown",
     "metadata": {
      "slideshow": {
       "slide_type": "fragment"
      }
     },
     "source": [
      "* Standard refined & dependent types built-in:\n",
      "    \n",
      "    * **templates:** ``pair``, ``set``, ``map``, ``vector``\n",
      "    * **refinements:** ``enum``, ``fucntion``, ``function_pointer``"
     ]
    },
    {
     "cell_type": "markdown",
     "metadata": {
      "slideshow": {
       "slide_type": "fragment"
      }
     },
     "source": [
      "* There is also a ``TypeMatcher`` class - inspired by ``re`` - which may replace any type or portion of a type."
     ]
    },
    {
     "cell_type": "markdown",
     "metadata": {
      "slideshow": {
       "slide_type": "slide"
      }
     },
     "source": [
      "<div style=\"text-align:center;\"><img src=\"dinner_is_comming.jpg\" width=\"80%\" /></div>"
     ]
    },
    {
     "cell_type": "markdown",
     "metadata": {
      "slideshow": {
       "slide_type": "slide"
      }
     },
     "source": [
      "## API Descriptions\n",
      "\n",
      "Code is generated from descriptions of API elements (variables, functions, and classes) to produce idomatic Python wrappers."
     ]
    },
    {
     "cell_type": "code",
     "collapsed": false,
     "input": [
      "brienne_desc = {\n",
      "    'name': 'Brienne',\n",
      "    'parents': ['LordSelwyn'],\n",
      "    'namespace': 'westeros',\n",
      "    'attrs': {\n",
      "        'moniker': 'str',\n",
      "        },\n",
      "    'methods': {\n",
      "        ('Brienne',): None,\n",
      "        ('Brienne', ('monkier', 'str', '\"Maid of Tarth\"')): None,\n",
      "        ('~Brienne',): None, \n",
      "        ('attack', ('person', ('char' '*'), ('weapon_id', 'i2', 1))): 'float32',\n",
      "        },\n",
      "    'docstrings': {\n",
      "        'class': \"I am so tall!\",\n",
      "        'attrs': {\n",
      "            'monkier': 'extra name for character',\n",
      "            },\n",
      "        'methods': {\n",
      "            'attack': \"Attack someone with a weapon and returns damage.\"\n",
      "            },\n",
      "        },\n",
      "    'extra': {},\n",
      "    }"
     ],
     "language": "python",
     "metadata": {
      "slideshow": {
       "slide_type": "fragment"
      }
     },
     "outputs": [],
     "prompt_number": 6
    },
    {
     "cell_type": "markdown",
     "metadata": {
      "slideshow": {
       "slide_type": "slide"
      }
     },
     "source": [
      "## ``cythongen`` via Hoover Example\n",
      "\n",
      "### jehsrc/hoover.h\n",
      "\n",
      "    #if !defined(HOOVER)\n",
      "    #define HOOVER\n",
      "    namespace hoover {\n",
      "    class A {\n",
      "    public:\n",
      "      float a;\n",
      "      double power(int n=1);\n",
      "    };};\n",
      "    #endif\n",
      "    \n",
      "### jehsrc/hoover.cpp\n",
      "\n",
      "    #include \"hoover.h\"\n",
      "    double hoover::A::power(int n){\n",
      "      int i = 1;\n",
      "      double val = a;\n",
      "      while (i < n){val *= a;};\n",
      "      return val;\n",
      "    };"
     ]
    },
    {
     "cell_type": "code",
     "collapsed": false,
     "input": [
      "!rm -r jedegar jehbuild build"
     ],
     "language": "python",
     "metadata": {
      "slideshow": {
       "slide_type": "skip"
      }
     },
     "outputs": [
      {
       "output_type": "stream",
       "stream": "stdout",
       "text": [
        "rm: cannot remove \u2018jedegar\u2019: No such file or directory\r\n"
       ]
      }
     ],
     "prompt_number": 7
    },
    {
     "cell_type": "markdown",
     "metadata": {
      "slideshow": {
       "slide_type": "slide"
      }
     },
     "source": [
      "## Hoover Example\n",
      "\n",
      "### jeh_xdressrc.py\n",
      "\n",
      "    package = 'jedgar'     # top-level python package name\n",
      "    packagedir = 'jedgar'  # location of the python package\n",
      "    sourcedir = 'jehsrc'   # location of C/C++ source\n",
      "    builddir = 'jehbuild'  # build and temp dir\n",
      "\n",
      "    classes = [\n",
      "        ('A', 'hoover'),\n",
      "        ]"
     ]
    },
    {
     "cell_type": "markdown",
     "metadata": {
      "slideshow": {
       "slide_type": "fragment"
      }
     },
     "source": [
      "### Run & Build"
     ]
    },
    {
     "cell_type": "code",
     "collapsed": false,
     "input": [
      "%%bash\n",
      "xdress --rc jeh_xdressrc.py\n",
      "python jeh_setup.py build > /dev/null 2>&1"
     ],
     "language": "python",
     "metadata": {
      "slideshow": {
       "slide_type": "fragment"
      }
     },
     "outputs": [
      {
       "output_type": "stream",
       "stream": "stdout",
       "text": [
        "stlwrap: generating C++ standard library wrappers & converters\n",
        "autoall: discovering API names\n",
        "autoall: no API names to discover!\n",
        "autodescribe: scraping C/C++ APIs from source\n",
        "autodescribe: describing A\n",
        "autodescribe: registering A\n",
        "cythongen: creating C/C++ API wrappers\n"
       ]
      }
     ],
     "prompt_number": 8
    },
    {
     "cell_type": "markdown",
     "metadata": {
      "slideshow": {
       "slide_type": "slide"
      }
     },
     "source": [
      "## Hoover Example\n",
      "\n",
      "### jedgar/hoover.pyx\n",
      "\n",
      "    from libc.stdlib cimport free\n",
      "\n",
      "    cdef class A:\n",
      "        \"\"\"no docstring for A, please file a bug report!\"\"\"\n",
      "\n",
      "        # constuctors\n",
      "        def __cinit__(self, *args, **kwargs):\n",
      "            self._inst = NULL\n",
      "            self._free_inst = True\n",
      "\n",
      "        def __init__(self):\n",
      "            \"\"\"A(self)\"\"\"\n",
      "            self._inst = new cpp_hoover.A()\n",
      "\n",
      "        def __dealloc__(self):\n",
      "            if self._free_inst:\n",
      "                free(self._inst)\n",
      "\n",
      "        # attributes\n",
      "        property a:\n",
      "            \"\"\"no docstring for a, please file a bug report!\"\"\"\n",
      "            def __get__(self):\n",
      "                return float((<cpp_hoover.A *> self._inst).a)\n",
      "\n",
      "            def __set__(self, value):\n",
      "                (<cpp_hoover.A *> self._inst).a = <float> value\n",
      "\n",
      "        # methods\n",
      "        def power(self, n=1):\n",
      "            \"\"\"power(self, n=1)\n",
      "            no docstring for power, please file a bug report!\"\"\"\n",
      "            cdef double rtnval\n",
      "            rtnval = (<cpp_hoover.A *> self._inst).power(<int> n)\n",
      "            return float(rtnval)"
     ]
    },
    {
     "cell_type": "code",
     "collapsed": false,
     "input": [
      "builddir = os.path.abspath('build/lib.linux-x86_64-2.7/')\n",
      "if builddir not in sys.path:\n",
      "    sys.path.insert(0, builddir)"
     ],
     "language": "python",
     "metadata": {
      "slideshow": {
       "slide_type": "skip"
      }
     },
     "outputs": [],
     "prompt_number": 9
    },
    {
     "cell_type": "markdown",
     "metadata": {
      "slideshow": {
       "slide_type": "slide"
      }
     },
     "source": [
      "## Hoover Example"
     ]
    },
    {
     "cell_type": "code",
     "collapsed": false,
     "input": [
      "from jedgar.hoover import A\n",
      "\n",
      "a = A()\n",
      "a.a = 10\n",
      "a.power(42)"
     ],
     "language": "python",
     "metadata": {},
     "outputs": [
      {
       "output_type": "pyout",
       "prompt_number": 10,
       "text": [
        "9.999999999999999e+41"
       ]
      }
     ],
     "prompt_number": 10
    },
    {
     "cell_type": "markdown",
     "metadata": {
      "slideshow": {
       "slide_type": "slide"
      }
     },
     "source": [
      "## ``cythongen`` can get much more complicated..."
     ]
    },
    {
     "cell_type": "markdown",
     "metadata": {},
     "source": [
      "<div style=\"text-align:center;\"><img src=\"patriarchy.jpg\" width=\"80%\" /></div>"
     ]
    },
    {
     "cell_type": "markdown",
     "metadata": {
      "slideshow": {
       "slide_type": "subslide"
      }
     },
     "source": [
      "## Function Pointer Callbacks"
     ]
    },
    {
     "cell_type": "markdown",
     "metadata": {
      "slideshow": {
       "slide_type": "slide"
      }
     },
     "source": [
      "## Questions\n",
      "\n",
      "<div style=\"text-align:center;\"><img src=\"http://24.media.tumblr.com/tumblr_m1rk6gkLao1r38bjro10_500.jpg\" width=\"80%\" /></div>"
     ]
    },
    {
     "cell_type": "markdown",
     "metadata": {
      "slideshow": {
       "slide_type": "slide"
      }
     },
     "source": [
      "## References\n",
      "\n",
      "1. Anthony Scopatz, \"Erichment: M* vs Flowrate\", URL: http://pynesim.org/gallery/enrichment_mstar_vs_flowrate.html"
     ]
    },
    {
     "cell_type": "code",
     "collapsed": false,
     "input": [
      "!make"
     ],
     "language": "python",
     "metadata": {
      "slideshow": {
       "slide_type": "skip"
      }
     },
     "outputs": [
      {
       "output_type": "stream",
       "stream": "stdout",
       "text": [
        "cp -r ~/nbconvert/reveal . \r\n",
        "rm -rf reveal/.git* \r\n",
        "mkdir -p js \r\n",
        "cp ~/nbconvert/js/mathjax-onload.js js\r\n",
        "cp classy.css reveal/css/theme/ \r\n",
        "python ~/nbconvert/nbconvert.py -f reveal scopatz_scipy2013.ipynb \r\n"
       ]
      },
      {
       "output_type": "stream",
       "stream": "stdout",
       "text": [
        "sed -i 's:reveal/css/theme/simple.css:reveal/css/theme/classy.css:' scopatz_scipy2013_slides.html \r\n",
        "sed -i 's:class=\"fragment\" class=\"text_cell_render:class=\"fragment text_cell_render:' scopatz_scipy2013_slides.html \r\n",
        "sed -i 's/.rendered_html ul{list-style:disc;margin:1em 2em;}/.rendered_html ul{list-style:disc;margin:0em 2em;}/' scopatz_scipy2013_slides.html \r\n",
        "sed -i '/<\\!-- Social buttons -->/,/<\\!-- End of social buttons -->/d' scopatz_scipy2013_slides.html \r\n"
       ]
      }
     ],
     "prompt_number": 14
    },
    {
     "cell_type": "code",
     "collapsed": false,
     "input": [],
     "language": "python",
     "metadata": {},
     "outputs": []
    }
   ],
   "metadata": {}
  }
 ]
}