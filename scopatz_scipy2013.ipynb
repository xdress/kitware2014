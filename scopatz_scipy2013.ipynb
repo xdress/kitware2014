{
 "metadata": {
  "name": "scopatz_scipy2013"
 },
 "nbformat": 3,
 "nbformat_minor": 0,
 "worksheets": [
  {
   "cells": [
    {
     "cell_type": "markdown",
     "metadata": {
      "slideshow": {
       "slide_type": "slide"
      }
     },
     "source": [
      "<div style=\"text-align:center\">\n",
      "<h1>XDress - Type, But Verify</h1>\n",
      "<h2><img src=\"HooverJoven.jpg\" /><br />SciPy 2013</h2>\n",
      "</div>\n",
      "<div style=\"text-align:center\">Anthony Michael Scopatz</div>\n",
      "<div style=\"text-align:center\">The University of Wisconsin-Madison, NumFOCUS</div>\n",
      "<div style=\"text-align:center\">Austin, TX, June 26th, 2013</div>"
     ]
    },
    {
     "cell_type": "code",
     "collapsed": false,
     "input": [
      "import os\n",
      "import numpy as np\n",
      "import matplotlib\n",
      "matplotlib.rc('font', family='serif', size=16)\n",
      "import matplotlib.pyplot as plt\n",
      "from IPython.display import *\n",
      "from utils import htmltable\n",
      "from pprint import pprint"
     ],
     "language": "python",
     "metadata": {
      "slideshow": {
       "slide_type": "skip"
      }
     },
     "outputs": [],
     "prompt_number": 45
    },
    {
     "cell_type": "markdown",
     "metadata": {
      "slideshow": {
       "slide_type": "skip"
      }
     },
     "source": [
      "## Cheat Sheet\n",
      "\n",
      "**Center:**  ``<div style=\"text-align:center;\"></div>``\n",
      "    \n",
      "**Right:**   ``<div style=\"text-align:right;\"></div>``\n",
      "    \n",
      "**Center H3:**  ``<div style=\"text-align:center;\"><h3></h3></div>``"
     ]
    },
    {
     "cell_type": "markdown",
     "metadata": {
      "slideshow": {
       "slide_type": "slide"
      }
     },
     "source": [
      "## What's the Big Idea\n",
      "\n",
      "<div style=\"text-align:center;\">At its core, xdress is a suite of code generation routines built on top of a dynamic type system.</div>"
     ]
    },
    {
     "cell_type": "markdown",
     "metadata": {
      "slideshow": {
       "slide_type": "fragment"
      }
     },
     "source": [
      "## Motivation\n",
      "\n",
      "* First class C++ support\n",
      "* Deep access to the type system\n",
      "* A multitude of front ends (including Cython)"
     ]
    },
    {
     "cell_type": "markdown",
     "metadata": {
      "slideshow": {
       "slide_type": "slide"
      }
     },
     "source": [
      "## What XDress Is"
     ]
    },
    {
     "cell_type": "markdown",
     "metadata": {
      "slideshow": {
       "slide_type": "skip"
      }
     },
     "source": [
      "Created via [this link](http://interactive.blockdiag.com/?compression=deflate&src=eJyr5lJQUHIM8FRwy8xLSS1SUoguLqnMSVWwVUhJLM5ITYm1BioISCwqTi0qVtC1Q1UL5geHKIRlFmeW5EMFnPNTUhXcU_NSixKBYsVK1ly1AOqXHj4)."
     ]
    },
    {
     "cell_type": "markdown",
     "metadata": {},
     "source": [
      "<div style=\"text-align:center;\"><img src=\"workflow.svg\" /></div>"
     ]
    },
    {
     "cell_type": "markdown",
     "metadata": {
      "slideshow": {
       "slide_type": "fragment"
      }
     },
     "source": [
      "## What XDress Is Not\n",
      "\n",
      "* **Parser**\n",
      "* **Compiler**\n",
      "* **Build System**"
     ]
    },
    {
     "cell_type": "markdown",
     "metadata": {
      "slideshow": {
       "slide_type": "slide"
      }
     },
     "source": [
      "## Type System\n",
      "\n",
      "* Since we are not doing any parsing or compiling, the type system doesn't need to know the concrete size of any types."
     ]
    },
    {
     "cell_type": "markdown",
     "metadata": {
      "slideshow": {
       "slide_type": "fragment"
      }
     },
     "source": [
      "* Rather the type system is a convient, consistent, and complete way to *spell* type names!"
     ]
    },
    {
     "cell_type": "markdown",
     "metadata": {
      "slideshow": {
       "slide_type": "fragment"
      }
     },
     "source": [
      "* Type names are composed of immutable Python types:\n",
      "    \n",
      "    * ``str``\n",
      "    * ``tuple``\n",
      "    * ``int``\n",
      "    * ``lambda``\n",
      "    * ``TypeMatcher``"
     ]
    },
    {
     "cell_type": "markdown",
     "metadata": {
      "slideshow": {
       "slide_type": "fragment"
      }
     },
     "source": [
      "<div style=\"text-align:right;\"><img src=\"http://img.photobucket.com/albums/v647/RandomElite/ZOMG.jpg\" width=\"75\" /></div>"
     ]
    },
    {
     "cell_type": "markdown",
     "metadata": {
      "slideshow": {
       "slide_type": "slide"
      }
     },
     "source": [
      "## Kinds of Types\n",
      "\n",
      "As a brief diversion into type theory, xdress supports:\n",
      "    \n",
      "<div style=\"text-align:center;\"><h3>Base Types</h3></div><br/>\n",
      "\n",
      "<div style=\"text-align:center;\"><h3>Dependent Types</h3></div><br/>\n",
      "\n",
      "<div style=\"text-align:center;\"><h3>Refinement Types</h3></div><br/>"
     ]
    },
    {
     "cell_type": "markdown",
     "metadata": {
      "slideshow": {
       "slide_type": "slide"
      }
     },
     "source": [
      "## Base Types\n",
      "\n",
      "Base types are the normal primitive types that we all know and lovehate.  \n",
      "\n",
      "These are represented by ``str``.  \n",
      "\n",
      "Classes and structs also become base types."
     ]
    },
    {
     "cell_type": "code",
     "collapsed": false,
     "input": [
      "import xdress.typesystem as ts\n",
      "pprint(ts.base_types)"
     ],
     "language": "python",
     "metadata": {},
     "outputs": [
      {
       "output_type": "stream",
       "stream": "stdout",
       "text": [
        "set(['bool',\n",
        "     'char',\n",
        "     'complex128',\n",
        "     'file',\n",
        "     'float128',\n",
        "     'float32',\n",
        "     'float64',\n",
        "     'int128',\n",
        "     'int16',\n",
        "     'int32',\n",
        "     'int64',\n",
        "     'str',\n",
        "     'type',\n",
        "     'uchar',\n",
        "     'uint128',\n",
        "     'uint16',\n",
        "     'uint32',\n",
        "     'uint64',\n",
        "     'void'])\n"
       ]
      }
     ],
     "prompt_number": 46
    },
    {
     "cell_type": "markdown",
     "metadata": {
      "slideshow": {
       "slide_type": "slide"
      }
     },
     "source": [
      "## Dependent Types\n",
      "\n",
      "Dependent types are parameterized by static values *or* types!"
     ]
    },
    {
     "cell_type": "markdown",
     "metadata": {
      "slideshow": {
       "slide_type": "fragment"
      }
     },
     "source": [
      "These are used to represent templated types in C++."
     ]
    },
    {
     "cell_type": "markdown",
     "metadata": {
      "slideshow": {
       "slide_type": "fragment"
      }
     },
     "source": [
      "They are spelled with ``tuple``s."
     ]
    },
    {
     "cell_type": "code",
     "collapsed": false,
     "input": [
      "set_of_strings = ('set', 'str')\n",
      "map_int_double = ('map', 'int32', 'float64')"
     ],
     "language": "python",
     "metadata": {
      "slideshow": {
       "slide_type": "fragment"
      }
     },
     "outputs": [],
     "prompt_number": 53
    },
    {
     "cell_type": "markdown",
     "metadata": {
      "slideshow": {
       "slide_type": "slide"
      }
     },
     "source": [
      "## Refined Types\n",
      "\n",
      "Refined types are defined such that all of their elements are subset of another type.  "
     ]
    },
    {
     "cell_type": "markdown",
     "metadata": {
      "slideshow": {
       "slide_type": "fragment"
      }
     },
     "source": [
      "They are specified by the refinement type name, the super type name, and a predicate."
     ]
    },
    {
     "cell_type": "markdown",
     "metadata": {
      "slideshow": {
       "slide_type": "fragment"
      }
     },
     "source": [
      "__Examples:__\n",
      "    \n",
      "* Even integers are a refinement of ``int32``"
     ]
    },
    {
     "cell_type": "markdown",
     "metadata": {
      "slideshow": {
       "slide_type": "fragment"
      }
     },
     "source": [
      "* Strings which begin with \"A\" are a refinement of ``str``"
     ]
    },
    {
     "cell_type": "markdown",
     "metadata": {
      "slideshow": {
       "slide_type": "fragment"
      }
     },
     "source": [
      "* ``set([\"Awesome\", \"As\", \"Anthony\"])`` is a refinement of \"A\" strings."
     ]
    },
    {
     "cell_type": "markdown",
     "metadata": {
      "slideshow": {
       "slide_type": "slide"
      }
     },
     "source": [
      "## Questions\n",
      "\n",
      "<div style=\"text-align:center;\"><img src=\"http://24.media.tumblr.com/tumblr_m1rk6gkLao1r38bjro10_500.jpg\" width=\"80%\" /></div>"
     ]
    },
    {
     "cell_type": "markdown",
     "metadata": {
      "slideshow": {
       "slide_type": "slide"
      }
     },
     "source": [
      "## References\n",
      "\n",
      "1. Anthony Scopatz, \"Erichment: M* vs Flowrate\", URL: http://pynesim.org/gallery/enrichment_mstar_vs_flowrate.html"
     ]
    },
    {
     "cell_type": "code",
     "collapsed": false,
     "input": [
      "!make"
     ],
     "language": "python",
     "metadata": {
      "slideshow": {
       "slide_type": "skip"
      }
     },
     "outputs": [
      {
       "output_type": "stream",
       "stream": "stdout",
       "text": [
        "cp -r ~/nbconvert/reveal . \r\n",
        "rm -rf reveal/.git* \r\n",
        "mkdir -p js \r\n",
        "cp ~/nbconvert/js/mathjax-onload.js js\r\n",
        "cp classy.css reveal/css/theme/ \r\n",
        "python ~/nbconvert/nbconvert.py -f reveal scopatz_scipy2013.ipynb \r\n"
       ]
      },
      {
       "output_type": "stream",
       "stream": "stdout",
       "text": [
        "sed -i 's:reveal/css/theme/simple.css:reveal/css/theme/classy.css:' scopatz_scipy2013_slides.html \r\n",
        "sed -i 's:class=\"fragment\" class=\"text_cell_render:class=\"fragment text_cell_render:' scopatz_scipy2013_slides.html \r\n",
        "sed -i 's/.rendered_html ul{list-style:disc;margin:1em 2em;}/.rendered_html ul{list-style:disc;margin:0em 2em;}/' scopatz_scipy2013_slides.html \r\n"
       ]
      },
      {
       "output_type": "stream",
       "stream": "stdout",
       "text": [
        "sed -i '/<\\!-- Social buttons -->/,/<\\!-- End of social buttons -->/d' scopatz_scipy2013_slides.html \r\n"
       ]
      }
     ],
     "prompt_number": 57
    },
    {
     "cell_type": "code",
     "collapsed": false,
     "input": [],
     "language": "python",
     "metadata": {},
     "outputs": []
    }
   ],
   "metadata": {}
  }
 ]
}